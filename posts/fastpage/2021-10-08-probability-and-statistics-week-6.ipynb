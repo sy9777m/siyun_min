{
 "cells": [
  {
   "cell_type": "markdown",
   "metadata": {},
   "source": [
    "# Probability and Statistics Week 6\n",
    "\n",
    "- toc: true\n",
    "- badges: true\n",
    "- comments: true\n",
    "- categories: [jupyter]"
   ]
  },
  {
   "cell_type": "code",
   "execution_count": 3,
   "metadata": {},
   "outputs": [],
   "source": [
    "import pandas as pd\n",
    "import numpy as np\n",
    "from matplotlib import pyplot as plt"
   ]
  },
  {
   "cell_type": "code",
   "execution_count": 5,
   "metadata": {},
   "outputs": [],
   "source": [
    "preg = pd.read_csv(\"./LectureCode/2002FemPreg.tsv\", sep='\\t')\n",
    "live = preg[preg['outcome'] == 1]"
   ]
  },
  {
   "cell_type": "code",
   "execution_count": 10,
   "metadata": {},
   "outputs": [
    {
     "data": {
      "image/png": "[encoded data removed]",
      "text/plain": [
       "<Figure size 432x288 with 1 Axes>"
      ]
     },
     "metadata": {
      "needs_background": "light"
     },
     "output_type": "display_data"
    }
   ],
   "source": [
    "plt.hist(live['birthwgt_lb'], rwidth=0.8, label='birthwgt_lb', bins=range(int(live['birthwgt_lb'].min()), int(live['birthwgt_lb'].max() + 2)))\n",
    "plt.xlabel('Birth weight (pounds)')\n",
    "plt.ylabel('frequency')\n",
    "plt.show()\n",
    "plt.close()"
   ]
  },
  {
   "cell_type": "code",
   "execution_count": 11,
   "metadata": {},
   "outputs": [],
   "source": [
    "hist = {key: val for key, val in enumerate(np.bincount(live['birthwgt_lb'].dropna()))}"
   ]
  },
  {
   "cell_type": "code",
   "execution_count": 12,
   "metadata": {},
   "outputs": [
    {
     "data": {
      "text/plain": [
       "{0: 8,\n",
       " 1: 40,\n",
       " 2: 53,\n",
       " 3: 98,\n",
       " 4: 229,\n",
       " 5: 697,\n",
       " 6: 2223,\n",
       " 7: 3049,\n",
       " 8: 1889,\n",
       " 9: 623,\n",
       " 10: 132,\n",
       " 11: 26,\n",
       " 12: 10,\n",
       " 13: 3,\n",
       " 14: 3,\n",
       " 15: 1}"
      ]
     },
     "execution_count": 12,
     "metadata": {},
     "output_type": "execute_result"
    }
   ],
   "source": [
    "hist"
   ]
  },
  {
   "cell_type": "code",
   "execution_count": 14,
   "metadata": {},
   "outputs": [],
   "source": [
    "n = sum(hist.values())\n",
    "pmf = hist.copy()\n",
    "for x, freq in hist.items():\n",
    "    pmf[x] = freq / n"
   ]
  },
  {
   "cell_type": "code",
   "execution_count": 15,
   "metadata": {},
   "outputs": [
    {
     "data": {
      "text/plain": [
       "{0: 0.0008806693086745927,\n",
       " 1: 0.004403346543372964,\n",
       " 2: 0.005834434169969176,\n",
       " 3: 0.01078819903126376,\n",
       " 4: 0.025209158960810215,\n",
       " 5: 0.07672831351827389,\n",
       " 6: 0.24471598414795245,\n",
       " 7: 0.3356450902686041,\n",
       " 8: 0.2079480405107882,\n",
       " 9: 0.06858212241303391,\n",
       " 10: 0.01453104359313078,\n",
       " 11: 0.0028621752531924264,\n",
       " 12: 0.001100836635843241,\n",
       " 13: 0.00033025099075297226,\n",
       " 14: 0.00033025099075297226,\n",
       " 15: 0.00011008366358432408}"
      ]
     },
     "execution_count": 15,
     "metadata": {},
     "output_type": "execute_result"
    }
   ],
   "source": [
    "pmf"
   ]
  },
  {
   "cell_type": "code",
   "execution_count": 16,
   "metadata": {},
   "outputs": [
    {
     "data": {
      "image/png": "[encoded data removed]",
      "text/plain": [
       "<Figure size 432x288 with 1 Axes>"
      ]
     },
     "metadata": {
      "needs_background": "light"
     },
     "output_type": "display_data"
    }
   ],
   "source": [
    "plt.bar(pmf.keys(), pmf.values())\n",
    "plt.xlabel('value')\n",
    "plt.ylabel('pmf')\n",
    "plt.show()\n",
    "plt.close()"
   ]
  },
  {
   "cell_type": "code",
   "execution_count": 18,
   "metadata": {},
   "outputs": [
    {
     "name": "stdout",
     "output_type": "stream",
     "text": [
      "1.0\n"
     ]
    }
   ],
   "source": [
    "print(sum(pmf.values()))"
   ]
  },
  {
   "cell_type": "code",
   "execution_count": 21,
   "metadata": {},
   "outputs": [],
   "source": [
    "values = [1, 2, 2, 3, 5]\n",
    "pmf = {key : val/len(values) for key, val in enumerate(np.bincount(values)) if val != 0}"
   ]
  },
  {
   "cell_type": "code",
   "execution_count": 22,
   "metadata": {},
   "outputs": [
    {
     "data": {
      "text/plain": [
       "{1: 0.2, 2: 0.4, 3: 0.2, 5: 0.2}"
      ]
     },
     "execution_count": 22,
     "metadata": {},
     "output_type": "execute_result"
    }
   ],
   "source": [
    "pmf"
   ]
  },
  {
   "cell_type": "code",
   "execution_count": 25,
   "metadata": {},
   "outputs": [],
   "source": [
    "pmf = {key: val / len(live['prglngth'].dropna()) for key, val in enumerate(np.bincount(live['prglngth'].dropna()))}"
   ]
  },
  {
   "cell_type": "code",
   "execution_count": 26,
   "metadata": {},
   "outputs": [
    {
     "data": {
      "image/png": "[encoded data removed]",
      "text/plain": [
       "<Figure size 432x288 with 1 Axes>"
      ]
     },
     "metadata": {
      "needs_background": "light"
     },
     "output_type": "display_data"
    }
   ],
   "source": [
    "plt.bar(pmf.keys(), pmf.values())\n",
    "plt.xlabel('value')\n",
    "plt.ylabel('pmf')\n",
    "plt.show()\n",
    "plt.close()"
   ]
  },
  {
   "cell_type": "code",
   "execution_count": 27,
   "metadata": {},
   "outputs": [
    {
     "data": {
      "image/png": "[encoded data removed]",
      "text/plain": [
       "<Figure size 432x288 with 1 Axes>"
      ]
     },
     "metadata": {
      "needs_background": "light"
     },
     "output_type": "display_data"
    }
   ],
   "source": [
    "plt.step(list(pmf.keys()), list(pmf.values()))\n",
    "plt.xlabel('value')\n",
    "plt.ylabel('pmf')\n",
    "plt.show()\n",
    "plt.close()"
   ]
  },
  {
   "cell_type": "code",
   "execution_count": 36,
   "metadata": {},
   "outputs": [],
   "source": [
    "firsts = live[live['birthord'] == 1]\n",
    "others = live[live['birthord'] > 1]\n",
    "first_pmf = {key: val / len(firsts['prglngth'].dropna()) for key, val in enumerate(np.bincount(firsts['prglngth'].dropna()))}\n",
    "others_pmf = {key: val / len(others['prglngth'].dropna()) for key, val in enumerate(np.bincount(others['prglngth'].dropna()))}"
   ]
  },
  {
   "cell_type": "code",
   "execution_count": 43,
   "metadata": {},
   "outputs": [
    {
     "data": {
      "image/png": "[encoded data removed]",
      "text/plain": [
       "<Figure size 432x288 with 1 Axes>"
      ]
     },
     "metadata": {
      "needs_background": "light"
     },
     "output_type": "display_data"
    }
   ],
   "source": [
    "plt.bar(first_pmf.keys(), first_pmf.values(), width=0.5, align='edge', label='firsts')\n",
    "plt.bar(others_pmf.keys(), others_pmf.values(), width=0.5, align='center', label='others')\n",
    "plt.xlabel('value')\n",
    "plt.ylabel('pmf')\n",
    "plt.legend()\n",
    "plt.xlim(26, 45)\n",
    "plt.show()\n",
    "plt.close()"
   ]
  },
  {
   "cell_type": "code",
   "execution_count": 44,
   "metadata": {},
   "outputs": [
    {
     "data": {
      "image/png": "[encoded data removed]",
      "text/plain": [
       "<Figure size 432x288 with 1 Axes>"
      ]
     },
     "metadata": {
      "needs_background": "light"
     },
     "output_type": "display_data"
    }
   ],
   "source": [
    "plt.step(list(first_pmf.keys()), list(first_pmf.values()), label='firsts')\n",
    "plt.step(list(others_pmf.keys()), list(others_pmf.values()), label='others')\n",
    "plt.xlabel('value')\n",
    "plt.ylabel('pmf')\n",
    "plt.xlim(26, 45)\n",
    "plt.legend()\n",
    "plt.show()\n",
    "plt.close()"
   ]
  },
  {
   "cell_type": "code",
   "execution_count": 45,
   "metadata": {},
   "outputs": [
    {
     "data": {
      "image/png": "[encoded data removed]",
      "text/plain": [
       "<Figure size 432x288 with 1 Axes>"
      ]
     },
     "metadata": {
      "needs_background": "light"
     },
     "output_type": "display_data"
    }
   ],
   "source": [
    "weeks = range(36, 46)\n",
    "diffs = []\n",
    "for week in weeks:\n",
    "    p1 = first_pmf[week]\n",
    "    p2 = others_pmf[week]\n",
    "    diff = 100 * (p1 - p2)\n",
    "    diffs.append(diff)\n",
    "\n",
    "plt.bar(weeks, diffs)\n",
    "plt.xlabel('prg length')\n",
    "plt.ylabel('diff')\n",
    "plt.show()\n",
    "plt.close()"
   ]
  },
  {
   "cell_type": "code",
   "execution_count": 46,
   "metadata": {},
   "outputs": [],
   "source": [
    "live = preg[preg['outcome'] == 1]\n",
    "firsts = live[live['birthord'] == 1]\n",
    "others = live[live['birthord'] > 1]"
   ]
  },
  {
   "cell_type": "code",
   "execution_count": 48,
   "metadata": {},
   "outputs": [],
   "source": [
    "first_wgt_dropna = firsts['totalwgt_lb'].dropna()\n",
    "other_wgt_dropna = others['totalwgt_lb'].dropna()"
   ]
  },
  {
   "cell_type": "code",
   "execution_count": 55,
   "metadata": {},
   "outputs": [],
   "source": [
    "first_hist, first_bins = np.histogram(first_wgt_dropna, bins=np.arange(0, 16, 0.05))\n",
    "other_hist, other_bins = np.histogram(other_wgt_dropna, bins=np.arange(0, 16, 0.05))\n",
    "first_pmf = {key: val / len(first_wgt_dropna) for key, val in zip(first_bins, first_hist)}\n",
    "other_pmf = {key: val / len(other_wgt_dropna) for key, val in zip(other_bins, other_hist)}"
   ]
  },
  {
   "cell_type": "code",
   "execution_count": 54,
   "metadata": {},
   "outputs": [
    {
     "data": {
      "image/png": "[encoded data removed]",
      "text/plain": [
       "<Figure size 432x288 with 1 Axes>"
      ]
     },
     "metadata": {
      "needs_background": "light"
     },
     "output_type": "display_data"
    }
   ],
   "source": [
    "plt.step(first_bins[:-1], first_hist, label='firsts')\n",
    "plt.step(other_bins[:-1], other_hist, label='firsts')\n",
    "plt.xlabel('value')\n",
    "plt.ylabel('hist')\n",
    "plt.legend()\n",
    "plt.show()\n",
    "plt.close()"
   ]
  },
  {
   "cell_type": "code",
   "execution_count": 56,
   "metadata": {},
   "outputs": [
    {
     "data": {
      "image/png": "[encoded data removed]",
      "text/plain": [
       "<Figure size 432x288 with 1 Axes>"
      ]
     },
     "metadata": {
      "needs_background": "light"
     },
     "output_type": "display_data"
    }
   ],
   "source": [
    "plt.step(list(first_pmf.keys()), list(first_pmf.values()), label='firsts')\n",
    "plt.step(list(other_pmf.keys()), list(other_pmf.values()), label='firsts')\n",
    "plt.xlabel('value')\n",
    "plt.ylabel('hist')\n",
    "plt.legend()\n",
    "plt.show()\n",
    "plt.close()"
   ]
  },
  {
   "cell_type": "code",
   "execution_count": 59,
   "metadata": {},
   "outputs": [],
   "source": [
    "def PercentileRank(scores, your_score):\n",
    "    count = 0\n",
    "    for score in scores:\n",
    "        if score <= your_score:\n",
    "            count += 1\n",
    "    \n",
    "    percentile_rank = 100 * count / len(scores)\n",
    "    return percentile_rank"
   ]
  },
  {
   "cell_type": "code",
   "execution_count": 60,
   "metadata": {},
   "outputs": [
    {
     "data": {
      "text/plain": [
       "80.0"
      ]
     },
     "execution_count": 60,
     "metadata": {},
     "output_type": "execute_result"
    }
   ],
   "source": [
    "t = [55, 66, 77, 88, 99]\n",
    "PercentileRank(t, 88)"
   ]
  },
  {
   "cell_type": "code",
   "execution_count": 61,
   "metadata": {},
   "outputs": [
    {
     "data": {
      "text/plain": [
       "77"
      ]
     },
     "execution_count": 61,
     "metadata": {},
     "output_type": "execute_result"
    }
   ],
   "source": [
    "def Percentile(scores, percentile_rank):\n",
    "    for score in sorted(scores):\n",
    "        if PercentileRank(scores, score) >= percentile_rank:\n",
    "            return score\n",
    "\n",
    "Percentile(t, 45)"
   ]
  },
  {
   "cell_type": "code",
   "execution_count": 62,
   "metadata": {},
   "outputs": [
    {
     "data": {
      "text/plain": [
       "66"
      ]
     },
     "execution_count": 62,
     "metadata": {},
     "output_type": "execute_result"
    }
   ],
   "source": [
    "def Percentile2(scores, percentile_rank):\n",
    "    scores.sort()\n",
    "    index = percentile_rank * (len(scores) - 1) // 100\n",
    "    return scores[index]\n",
    "\n",
    "Percentile2(t, 45)"
   ]
  },
  {
   "cell_type": "code",
   "execution_count": 63,
   "metadata": {},
   "outputs": [],
   "source": [
    "def evalCdf(sample, x):\n",
    "    count = 0.0\n",
    "    for value in sorted(sample):\n",
    "        if value <= x:\n",
    "            count += 1\n",
    "    prob = count / len(sample)\n",
    "    return prob\n",
    "\n",
    "def getValCdf(sample, cdf_value):\n",
    "    for score in sorted(sample):\n",
    "        if evalCdf(sample, score) >= cdf_value:\n",
    "            return score\n",
    "\n",
    "def evalCdfCdf(cdf, target_val):\n",
    "    for val, score in sorted(cdf.items()):\n",
    "        if val >= target_val:\n",
    "            return score\n",
    "\n",
    "def getValCdfCdf(cdf, cdf_value):\n",
    "    for val, score in sorted(cdf.items()):\n",
    "        if score >= cdf_value:\n",
    "            return val"
   ]
  },
  {
   "cell_type": "code",
   "execution_count": 64,
   "metadata": {},
   "outputs": [
    {
     "name": "stdout",
     "output_type": "stream",
     "text": [
      "0.6\n"
     ]
    }
   ],
   "source": [
    "t = [1, 2, 3, 4, 5]\n",
    "print(evalCdf(t, 3))"
   ]
  },
  {
   "cell_type": "code",
   "execution_count": 68,
   "metadata": {},
   "outputs": [],
   "source": [
    "def pmf2cdf(pmf_dict):\n",
    "    cdf_dict = {}\n",
    "    now = 0.0\n",
    "    for k, v in sorted(pmf_dict.items()):\n",
    "        now += v\n",
    "        cdf_dict[k] = now\n",
    "    return cdf_dict"
   ]
  },
  {
   "cell_type": "code",
   "execution_count": 69,
   "metadata": {},
   "outputs": [],
   "source": [
    "first_hist, first_bins = np.histogram(first_wgt_dropna, bins=np.arange(0, 16, 0.05))\n",
    "other_hist, other_bins = np.histogram(other_wgt_dropna, bins=np.arange(0, 16, 0.05))\n",
    "live_wgt_dropna = live['totalwgt_lb'].dropna()\n",
    "live_hist, live_bins = np.histogram(live_wgt_dropna, bins=np.arange(0, 16, 0.05))\n",
    "\n",
    "first_pmf = {key: val / len(first_wgt_dropna) for key, val in zip(first_bins, first_hist)}\n",
    "other_pmf = {key: val / len(other_wgt_dropna) for key, val in zip(other_bins, other_hist)}\n",
    "live_pmf = {key: val / len(live_wgt_dropna) for key, val in zip(live_bins, live_hist)}\n",
    "\n",
    "first_cdf = pmf2cdf(first_pmf)\n",
    "other_cdf = pmf2cdf(other_pmf)\n",
    "live_cdf = pmf2cdf(live_pmf)"
   ]
  },
  {
   "cell_type": "code",
   "execution_count": 73,
   "metadata": {},
   "outputs": [
    {
     "data": {
      "image/png": "[encoded data removed]",
      "text/plain": [
       "<Figure size 432x288 with 1 Axes>"
      ]
     },
     "metadata": {
      "needs_background": "light"
     },
     "output_type": "display_data"
    }
   ],
   "source": [
    "plt.step(list(first_cdf.keys()), list(first_cdf.values()), label='first')\n",
    "plt.step(list(other_cdf.keys()), list(other_cdf.values()), label='others')\n",
    "plt.step(list(live_cdf.keys()), list(live_cdf.values()), label='live')\n",
    "plt.xlabel('brithwgt')\n",
    "plt.ylabel('CDF')\n",
    "plt.legend()\n",
    "plt.show()\n",
    "plt.close()"
   ]
  },
  {
   "cell_type": "code",
   "execution_count": 76,
   "metadata": {},
   "outputs": [
    {
     "data": {
      "image/png": "[encoded data removed]",
      "text/plain": [
       "<Figure size 432x288 with 1 Axes>"
      ]
     },
     "metadata": {
      "needs_background": "light"
     },
     "output_type": "display_data"
    }
   ],
   "source": [
    "sample = np.random.choice(live_wgt_dropna, 20, replace=True)\n",
    "sample_hist, sample_bins = np.histogram(sample, bins=np.arange(0, 16, 0.05))\n",
    "sample_pmf = {key: val for key, val in zip(sample_bins, sample_hist)}\n",
    "sample_cdf = pmf2cdf(sample_pmf)\n",
    "\n",
    "plt.step(list(sample_cdf.keys()), list(sample_cdf.values()))\n",
    "plt.show()\n",
    "plt.close()"
   ]
  },
  {
   "cell_type": "code",
   "execution_count": null,
   "metadata": {},
   "outputs": [],
   "source": []
  }
 ],
 "metadata": {
  "interpreter": {
   "hash": "80b30e7e68335b3f9ebdfc076c9fd3a30b28dc46134d089debee0b4b9083a3a3"
  },
  "kernelspec": {
   "display_name": "Python 3.8.8 64-bit ('venv': venv)",
   "name": "python3"
  },
  "language_info": {
   "codemirror_mode": {
    "name": "ipython",
    "version": 3
   },
   "file_extension": ".py",
   "mimetype": "text/x-python",
   "name": "python",
   "nbconvert_exporter": "python",
   "pygments_lexer": "ipython3",
   "version": "3.8.8"
  },
  "orig_nbformat": 4
 },
 "nbformat": 4,
 "nbformat_minor": 2
}
