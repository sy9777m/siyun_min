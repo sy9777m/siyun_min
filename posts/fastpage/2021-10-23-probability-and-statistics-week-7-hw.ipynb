{
 "cells": [
  {
   "cell_type": "code",
   "execution_count": 1,
   "metadata": {},
   "outputs": [],
   "source": [
    "from scipy import stats\n",
    "import numpy as np"
   ]
  },
  {
   "cell_type": "markdown",
   "metadata": {},
   "source": [
    "# Question 1\n",
    "\n",
    "5명의 학생들이 근무시간이 시작되면 조교님과 이야기하기 위해 기다리고 있습니다.\n",
    "조교님은 한 번에 한 명씩 첫 번째 학생부터 다섯 번째 학생까지 상담을 합니다.\n",
    "조교님이 학생과 대화하는 데 걸리는 시간이 평균 8분, 표준 편차가 2분인 정규 분포를 가지고 있다고 가정하고, 학생이 사용하는 시간이 서로 독립적이라고 가정합니다.\n",
    "\n",
    "(a) 조교님이 5명의 학생과 대화하는 데 걸린 총 시간이 45분 이상일 확률은 얼마입니까?\n",
    "(b) 조교님이 건강이 좋지 않은가 봅니다. 첫 번째 학생에게 말하기 시작한 이후에 조금 시간이 지나 두통이 생깁니다.\n",
    "첫 학생의 상담 시작과 두통이 생기기 시작하는 시간 사이에 경과하는 시간이 평균 28분, 표준편차가 5분인 정규분포라고 가정해 봅시다\n",
    "TA가 세 번째 학생과 대화를 마친 후에 두통이 시작될 확률은 얼마나 됩니까?"
   ]
  },
  {
   "cell_type": "markdown",
   "metadata": {},
   "source": [
    "## Question 1 (a)\n",
    "\n",
    "$$\n",
    "X = \\text{학생 한 명과 대화하는 데 걸리는 시간} \\\\\n",
    "Y = 5X = \\text{학생 5명과 대화하는데 걸리는 시간} \\\\\n",
    "\\mu = 8, \\sigma = 2 \\\\\n",
    "X \\thicksim N(8, 2^{2}) \\\\\n",
    "E(Y) = E(5X) = 5E(X) \\\\\n",
    "Var(Y) = Var(5X) = 25Var(X) \\\\\n",
    "\\mu_{X} = 8, \\sigma_{X} = 2 \\\\\n",
    "\\mu_{Y} = 40, \\sigma_{Y} = 5 * 2 = 10 \\\\\n",
    "P(Y \\geq 45) \\\\\n",
    "$$\n",
    "\n",
    "따라서 Y = 45일 때 cdf 값을 구하고 1 - cdf하면 학생 5명과 대화를 할 때 걸린 총 시간이 45분 이상일 확률이 구해진다."
   ]
  },
  {
   "cell_type": "code",
   "execution_count": 2,
   "metadata": {},
   "outputs": [
    {
     "data": {
      "text/plain": [
       "0.10564977366685535"
      ]
     },
     "execution_count": 2,
     "metadata": {},
     "output_type": "execute_result"
    }
   ],
   "source": [
    "mu = 8\n",
    "std = 2\n",
    "\n",
    "answer_1_a = 1 - stats.norm.cdf(45, mu * 5, std * 2)\n",
    "answer_1_a"
   ]
  },
  {
   "cell_type": "markdown",
   "metadata": {},
   "source": [
    "$$\n",
    "P(Y \\geq 45) = 0.002796018584074135\n",
    "$$"
   ]
  },
  {
   "cell_type": "markdown",
   "metadata": {},
   "source": [
    "## Question 1 (b)\n",
    "\n",
    "$$\n",
    "H = \\text{첫 학생의 상담 시작과 두통이 생기기 시작하는 시간 사이의 경과하는 시간} \\\\\n",
    "\\mu_{H} = 28, \\sigma_{H} = 5 \\\\\n",
    "Y_{3} = 3X = \\text{학생 3명과 대화하는데 걸리는 시간} \\\\\n",
    "\\mu_{Y_{3}} = 8 * 3 = 24, \\sigma_{Y_{3}} = 2 * 3 = 6 \\\\\n",
    "T = H - Y_{3}\\\\\n",
    "\\mu_{T} = 28 - 24 = 4, \\sigma_{T} = 5 + 6 = 11 \\\\\n",
    "P(T \\geq 0)\n",
    "$$"
   ]
  },
  {
   "cell_type": "code",
   "execution_count": 3,
   "metadata": {},
   "outputs": [
    {
     "data": {
      "text/plain": [
       "0.6074685657262202"
      ]
     },
     "execution_count": 3,
     "metadata": {},
     "output_type": "execute_result"
    }
   ],
   "source": [
    "mu_t = 3\n",
    "sigma_t = 11\n",
    "\n",
    "answer_1_b = 1 - stats.norm.cdf(0, mu_t, sigma_t)\n",
    "answer_1_b"
   ]
  },
  {
   "cell_type": "markdown",
   "metadata": {},
   "source": [
    "$$\n",
    "P(T \\geq 0) = 0.6074685657262202\n",
    "$$"
   ]
  },
  {
   "cell_type": "markdown",
   "metadata": {},
   "source": [
    "# Question 2\n",
    "\n",
    "아래의 확률을 정규분포 근사로 계산해보고, 이항분포로 계산해본 후 비교해보세요.\n",
    "B(n, p)는 n개 샘플, p 확률의 이항 분포라는 뜻입니다.\n",
    "(a) P(X ≥ 7) where X ∼ B(10, 0.3)\n",
    "(b) P(9 ≤ X ≤ 12) where X ∼ B(21, 0.5)\n",
    "(c) P(X ≤ 3) where X ∼ B(7, 0.2)\n",
    "(d) P(9 ≤ X ≤ 11) where X ∼ B(12, 0.65)"
   ]
  },
  {
   "cell_type": "markdown",
   "metadata": {},
   "source": [
    "## 이항분포의 가우시안 근사\n",
    "\n",
    "$$\n",
    "B(n, p) \\to N(np, np(1 - p)) \\\\\n",
    "X \\thicksim B(n, p) \\\\\n",
    "\\Rightarrow P(X \\leq x) \\simeq \\Phi{(\\frac{x + 0.5 - np}{\\sqrt{np(1 - p)}})}\\, and\\, P(X \\geq x) \\simeq 1 - \\Phi{(\\frac{x - 0.5 - np}{\\sqrt{np(1 - p)}})} \\\\\n",
    "np \\geq 5\\, and\\, n(1 - p) \\geq 5\\, \\text{에서 잘 작동}\n",
    "$$\n"
   ]
  },
  {
   "cell_type": "markdown",
   "metadata": {},
   "source": [
    "## Question 2 (a)\n",
    "\n",
    "$P(X \\geq 7)\\, where\\, X \\thicksim B(10, 0.3)$"
   ]
  },
  {
   "cell_type": "code",
   "execution_count": 4,
   "metadata": {},
   "outputs": [
    {
     "data": {
      "text/plain": [
       "(0.007862649877252714, 0.0015903863999999768)"
      ]
     },
     "execution_count": 4,
     "metadata": {},
     "output_type": "execute_result"
    }
   ],
   "source": [
    "n = 10\n",
    "p = 0.3\n",
    "q = 1 - p\n",
    "\n",
    "mu = n * p\n",
    "var = n * p * q\n",
    "\n",
    "answer_2_a_norm = 1 - stats.norm.cdf((7 - 0.5 - mu) / np.sqrt(var))\n",
    "answer_2_a_bi = 1 - stats.binom.cdf(7, n, p)\n",
    "\n",
    "answer_2_a_norm, answer_2_a_bi"
   ]
  },
  {
   "cell_type": "markdown",
   "metadata": {},
   "source": [
    "정규분포 근사값은 0.6567208193227195이고, 이항분포 값은 0.0015903863999999768이다."
   ]
  },
  {
   "cell_type": "markdown",
   "metadata": {},
   "source": [
    "## Question 2 (b)\n",
    "$P(9 \\leq X \\leq 12)\\, where\\, X \\thicksim B(21, 0.5)$"
   ]
  },
  {
   "cell_type": "code",
   "execution_count": 5,
   "metadata": {},
   "outputs": [
    {
     "data": {
      "text/plain": [
       "(0.4570141638579211, 0.4765329360961914)"
      ]
     },
     "execution_count": 5,
     "metadata": {},
     "output_type": "execute_result"
    }
   ],
   "source": [
    "n = 21\n",
    "p = 0.5\n",
    "q = 1 - p\n",
    "\n",
    "mu = n * p\n",
    "var = n * p * q\n",
    "\n",
    "answer_2_b_norm = stats.norm.cdf((12 + 0.5 - mu) / np.sqrt(var), 0, np.sqrt(var)) - stats.norm.cdf((9 - 0.5 - mu) / np.sqrt(var))\n",
    "answer_2_b_bi = stats.binom.cdf(12, n, p) - stats.binom.cdf(9, n, p)\n",
    "\n",
    "answer_2_b_norm, answer_2_b_bi"
   ]
  },
  {
   "cell_type": "markdown",
   "metadata": {},
   "source": [
    "정규분포 근사값은 0.4570141638579211이고, 이항분포 값은 0.4765329360961914이다."
   ]
  },
  {
   "cell_type": "markdown",
   "metadata": {},
   "source": [
    "## Question 2 (c)\n",
    "\n",
    "$P(X \\leq 3)\\, where\\, X \\thicksim B(7, 0.2)$"
   ]
  },
  {
   "cell_type": "code",
   "execution_count": 6,
   "metadata": {},
   "outputs": [
    {
     "data": {
      "text/plain": [
       "(0.9763895479982114, 0.966656)"
      ]
     },
     "execution_count": 6,
     "metadata": {},
     "output_type": "execute_result"
    }
   ],
   "source": [
    "n = 7\n",
    "p = 0.2\n",
    "q = 1 - p\n",
    "\n",
    "mu = n * p\n",
    "var = n * p * q\n",
    "\n",
    "answer_2_c_norm = stats.norm.cdf((3 + 0.5 - mu) / np.sqrt(var))\n",
    "answer_2_c_bi = stats.binom.cdf(3, n, p)\n",
    "\n",
    "answer_2_c_norm, answer_2_c_bi"
   ]
  },
  {
   "cell_type": "markdown",
   "metadata": {},
   "source": [
    "정규분포 근사값은 0.9763895479982114이고, 이항분포 값은 0.966656이다."
   ]
  },
  {
   "cell_type": "markdown",
   "metadata": {},
   "source": [
    "## Question 2 (d)\n",
    "\n",
    "$P(9 \\leq X \\leq 11)\\, where\\, X \\thicksim B(12, 0.65)$"
   ]
  },
  {
   "cell_type": "code",
   "execution_count": 7,
   "metadata": {},
   "outputs": [
    {
     "data": {
      "text/plain": [
       "(0.1391995944105242, 0.14559956927216167)"
      ]
     },
     "execution_count": 7,
     "metadata": {},
     "output_type": "execute_result"
    }
   ],
   "source": [
    "n = 12\n",
    "p = 0.65\n",
    "q = 1 - p\n",
    "\n",
    "mu = n * p\n",
    "var = n * p * q\n",
    "\n",
    "answer_2_d_norm = stats.norm.cdf((11 + 0.5 - mu) / np.sqrt(var)) - stats.norm.cdf((9 + 0.5 - mu) / np.sqrt(var))\n",
    "answer_2_d_bi = stats.binom.cdf(11, n, p) - stats.binom.cdf(9, n, p)\n",
    "\n",
    "answer_2_d_norm, answer_2_d_bi"
   ]
  },
  {
   "cell_type": "markdown",
   "metadata": {},
   "source": [
    "정규분포 근사값은 0.1391995944105242이고, 이항분포 값은 0.14559956927216167이다."
   ]
  },
  {
   "cell_type": "markdown",
   "metadata": {},
   "source": [
    "# Question 3\n",
    "\n",
    "한 연구자가 박테리아균을 배양합니다\n",
    "하루 성장 후 배양물의 크기가 모수 μ = 2.3 및 σ = 0.2인 로그정규 분포를 갖는다고 가정합니다.\n",
    "(a) 하루 후에 예상되는 배양물의 평균값은 얼마인가요?\n",
    "(b) 하루 후의 배양물의 중간값은  얼마인가요?\n",
    "(c) 하루 후의 배양물 크기의 3rd Quartile은 얼마인가요?\n",
    "(d) 하루 후에 배양물 크기가 15보다 클 확률은 얼마인가요?\n",
    "(e) 하루 후에 배양물 크기가 6보다 작을 확률은 얼마인가요?"
   ]
  },
  {
   "cell_type": "markdown",
   "metadata": {},
   "source": [
    "$$\n",
    "\\mu = 2.3, \\sigma = 0.2 \\\\\n",
    "X = \\text{하루 성장 후 배양물의 크기} \\thicksim LogN(2.3, 0.2^{2})\n",
    "$$"
   ]
  },
  {
   "cell_type": "markdown",
   "metadata": {},
   "source": [
    "## Question 3 (a)\n",
    "\n",
    "(a) 하루 후에 예상되는 배양물의 평균값은 얼마인가요?"
   ]
  },
  {
   "cell_type": "markdown",
   "metadata": {},
   "source": [
    "log-normal distribution에서 평균은 $exp(\\mu + \\frac{\\sigma^{2}}{2})$이다."
   ]
  },
  {
   "cell_type": "code",
   "execution_count": 8,
   "metadata": {},
   "outputs": [
    {
     "data": {
      "text/plain": [
       "10.175674306073333"
      ]
     },
     "execution_count": 8,
     "metadata": {},
     "output_type": "execute_result"
    }
   ],
   "source": [
    "mu = 2.3\n",
    "sigma = 0.2\n",
    "\n",
    "answer_3_a = np.exp(mu + (sigma ** 2) / 2)\n",
    "answer_3_a"
   ]
  },
  {
   "cell_type": "markdown",
   "metadata": {},
   "source": [
    "하루 후 예상되는 배양물의 크기 평균 값 = 10.175674306073333"
   ]
  },
  {
   "cell_type": "markdown",
   "metadata": {},
   "source": [
    "## Question 3 (b)\n",
    "\n",
    "(b) 하루 후의 배양물의 중간값은  얼마인가요?"
   ]
  },
  {
   "cell_type": "markdown",
   "metadata": {},
   "source": [
    "log-normal distribution에서 중간값은 $exp(\\mu)$이다."
   ]
  },
  {
   "cell_type": "code",
   "execution_count": 9,
   "metadata": {},
   "outputs": [
    {
     "data": {
      "text/plain": [
       "9.974182454814718"
      ]
     },
     "execution_count": 9,
     "metadata": {},
     "output_type": "execute_result"
    }
   ],
   "source": [
    "mu = 2.3\n",
    "sigma = 0.2\n",
    "\n",
    "answer_3_b = np.exp(mu)\n",
    "\n",
    "answer_3_b"
   ]
  },
  {
   "cell_type": "markdown",
   "metadata": {},
   "source": [
    "하루 후 예상되는 배양물의 크기 중간 값 = 9.974182454814718"
   ]
  },
  {
   "cell_type": "markdown",
   "metadata": {},
   "source": [
    "## Question 3 (c)\n",
    "\n",
    "(c) 하루 후의 배양물 크기의 3rd Quartile은 얼마인가요?\n",
    "\n",
    "log-normal distribution에서 quantile은 $exp(\\mu + \\sqrt{2\\sigma^{2}}\\, erf^{-1}(2p - 1))$이다.\n",
    "\n",
    "따라서 p가 0.75일 때 3rd Quartile이다."
   ]
  },
  {
   "cell_type": "code",
   "execution_count": 10,
   "metadata": {},
   "outputs": [
    {
     "data": {
      "text/plain": [
       "17.174159769935745"
      ]
     },
     "execution_count": 10,
     "metadata": {},
     "output_type": "execute_result"
    }
   ],
   "source": [
    "from scipy import special\n",
    "\n",
    "answer_3_c = np.exp(mu + np.sqrt(2 * (sigma ** 2)) / special.erf(2 * 0.75 - 1))\n",
    "\n",
    "answer_3_c"
   ]
  },
  {
   "cell_type": "markdown",
   "metadata": {},
   "source": [
    "하루 후 예상되는 배양물의 크기 3rd Quartile = 17.174159769935745"
   ]
  },
  {
   "cell_type": "markdown",
   "metadata": {},
   "source": [
    "## Question 3 (d)\n",
    "\n",
    "(d) 하루 후에 배양물 크기가 15보다 클 확률은 얼마인가요?\n",
    "\n",
    "$P(X > 15) = 1 - \\Phi{(\\frac{ln(15) - \\mu}{\\sigma})}$"
   ]
  },
  {
   "cell_type": "code",
   "execution_count": 11,
   "metadata": {},
   "outputs": [
    {
     "data": {
      "text/plain": [
       "0.020662665969527705"
      ]
     },
     "execution_count": 11,
     "metadata": {},
     "output_type": "execute_result"
    }
   ],
   "source": [
    "answer_3_d = 1 - stats.norm.cdf((np.log(15) - mu) / sigma)\n",
    "\n",
    "answer_3_d"
   ]
  },
  {
   "cell_type": "markdown",
   "metadata": {},
   "source": [
    "$P(X > 15) = 0.020662665969527705$"
   ]
  },
  {
   "cell_type": "markdown",
   "metadata": {},
   "source": [
    "## Question 4 (e)\n",
    "\n",
    "(e) 하루 후에 배양물 크기가 6보다 작을 확률은 얼마인가요?\n",
    "\n",
    "$P(X \\leq 6) = \\Phi{(\\frac{ln(6) - \\mu}{\\sigma})}$"
   ]
  },
  {
   "cell_type": "code",
   "execution_count": 12,
   "metadata": {},
   "outputs": [
    {
     "data": {
      "text/plain": [
       "0.005523593376350241"
      ]
     },
     "execution_count": 12,
     "metadata": {},
     "output_type": "execute_result"
    }
   ],
   "source": [
    "answer_3_e = stats.norm.cdf((np.log(6) - mu) / sigma)\n",
    "\n",
    "answer_3_e"
   ]
  },
  {
   "cell_type": "markdown",
   "metadata": {},
   "source": [
    "$P(X \\leq 6) = 0.005523593376350241$"
   ]
  }
 ],
 "metadata": {
  "interpreter": {
   "hash": "80b30e7e68335b3f9ebdfc076c9fd3a30b28dc46134d089debee0b4b9083a3a3"
  },
  "kernelspec": {
   "display_name": "Python 3.8.8 64-bit ('venv': venv)",
   "name": "python3"
  },
  "language_info": {
   "codemirror_mode": {
    "name": "ipython",
    "version": 3
   },
   "file_extension": ".py",
   "mimetype": "text/x-python",
   "name": "python",
   "nbconvert_exporter": "python",
   "pygments_lexer": "ipython3",
   "version": "3.8.8"
  }
 },
 "nbformat": 4,
 "nbformat_minor": 4
}
